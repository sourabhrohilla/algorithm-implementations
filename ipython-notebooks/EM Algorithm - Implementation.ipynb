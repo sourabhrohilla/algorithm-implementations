{
 "cells": [
  {
   "cell_type": "code",
   "execution_count": 1,
   "metadata": {
    "collapsed": true
   },
   "outputs": [],
   "source": [
    "import numpy as np\n",
    "import matplotlib\n",
    "%matplotlib inline\n",
    "import matplotlib.pyplot as plt\n",
    "from sklearn.datasets import make_blobs\n",
    "\n",
    "import seaborn as sns"
   ]
  },
  {
   "cell_type": "markdown",
   "metadata": {},
   "source": [
    "### Generate Data"
   ]
  },
  {
   "cell_type": "code",
   "execution_count": 11,
   "metadata": {
    "collapsed": true
   },
   "outputs": [],
   "source": [
    "n_samples = 100000\n",
    "dataset = make_blobs(n_samples=n_samples,n_features=1,cluster_std=1, centers=3,center_box=(-10,10))"
   ]
  },
  {
   "cell_type": "code",
   "execution_count": 12,
   "metadata": {
    "collapsed": true
   },
   "outputs": [],
   "source": [
    "input_data = dataset[0]"
   ]
  },
  {
   "cell_type": "code",
   "execution_count": 13,
   "metadata": {},
   "outputs": [
    {
     "data": {
      "text/plain": [
       "<matplotlib.axes._subplots.AxesSubplot at 0x7fe6f8a08eb8>"
      ]
     },
     "execution_count": 13,
     "metadata": {},
     "output_type": "execute_result"
    },
    {
     "data": {
      "image/png": "[encoded data removed]",
      "text/plain": [
       "<matplotlib.figure.Figure at 0x7fe6f8aff390>"
      ]
     },
     "metadata": {},
     "output_type": "display_data"
    }
   ],
   "source": [
    "sns.distplot(input_data)"
   ]
  },
  {
   "cell_type": "markdown",
   "metadata": {},
   "source": [
    "### Use Sklearn GaussianMixture model"
   ]
  },
  {
   "cell_type": "code",
   "execution_count": 14,
   "metadata": {},
   "outputs": [
    {
     "name": "stdout",
     "output_type": "stream",
     "text": [
      "Posteriors :  [ 0.33389442  0.33446741  0.33163817]\n",
      "Means :  [[-0.78270151]\n",
      " [-8.79342345]\n",
      " [-4.77826338]]\n",
      "Std-deviation [ 1.0069063   1.00266139  0.98861837]\n"
     ]
    }
   ],
   "source": [
    "#Use GaussianMixture modelling to get mu and sigma for each gaussian\n",
    "from sklearn.mixture import GaussianMixture\n",
    "gmm = GaussianMixture(n_components=3,covariance_type='spherical')\n",
    "gmm.fit(input_data)\n",
    "print(\"Posteriors : \", gmm.weights_)\n",
    "print(\"Means : \", gmm.means_)\n",
    "print(\"Std-deviation\", np.sqrt(gmm.covariances_))"
   ]
  },
  {
   "cell_type": "markdown",
   "metadata": {},
   "source": [
    "### Implement EM Algorithm"
   ]
  },
  {
   "cell_type": "code",
   "execution_count": 21,
   "metadata": {
    "collapsed": true
   },
   "outputs": [],
   "source": [
    "#Implement EM algorithm\n",
    "\n",
    "#Initialize the parameters\n",
    "n_components=3\n",
    "mu_vector = np.random.random((n_components,1))*10\n",
    "sd_vector = np.random.random((n_components,1))\n",
    "priors = np.ones(n_components)/n_components\n",
    "probability_component_wise = np.zeros((n_samples,n_components))\n",
    "likelihood = np.zeros((n_samples,n_components))\n",
    "\n",
    "def gaussian_pdf(x,mu,sigma):\n",
    "    return 1/(sigma*np.sqrt(2*np.pi))*np.exp(-1*(np.power(x-mu,2))/(2*np.power(sigma,2)))"
   ]
  },
  {
   "cell_type": "code",
   "execution_count": 22,
   "metadata": {},
   "outputs": [
    {
     "name": "stdout",
     "output_type": "stream",
     "text": [
      "posteriors :  [ 0.33313032  0.33312002  0.33374966]\n",
      "[[-0.77851494]\n",
      " [-4.77801014]\n",
      " [-8.79734227]]\n",
      "[[ 1.00387262]\n",
      " [ 0.99782211]\n",
      " [ 0.99981765]]\n"
     ]
    }
   ],
   "source": [
    "# for iteration in range(100):\n",
    "\n",
    "for iteration in range(500):\n",
    "    #1. Expectation Step\n",
    "    for component in range(n_components):\n",
    "#         Calculate p(x|a)\n",
    "        probability_component_wise[:,component] = np.apply_along_axis(gaussian_pdf,0,\n",
    "                                      input_data,mu_vector[component],sd_vector[component]).reshape(-1,)\n",
    "\n",
    "#     Calculate p(a|x)\n",
    "    likelihood = probability_component_wise/probability_component_wise.sum(axis=1).reshape(-1,1)\n",
    "\n",
    "    #2. Maximization step\n",
    "    mu_vector = np.dot(likelihood.T,input_data)/likelihood.sum(axis=0).reshape(-1,1)\n",
    "    for component in range(n_components):\n",
    "        mean_deviated_input = np.square(np.subtract(input_data,mu_vector[component]))\n",
    "        sd_vector[component] = np.sqrt(np.dot(\n",
    "            likelihood[:,component].T,mean_deviated_input)/likelihood[:,component].sum(axis=0))[0]\n",
    "\n",
    "\n",
    "print(\"posteriors : \", np.mean(likelihood,axis=0))\n",
    "print(mu_vector)\n",
    "print(sd_vector)\n",
    "    "
   ]
  },
  {
   "cell_type": "code",
   "execution_count": null,
   "metadata": {
    "collapsed": true
   },
   "outputs": [],
   "source": []
  }
 ],
 "metadata": {
  "kernelspec": {
   "display_name": "Python 3",
   "language": "python",
   "name": "python3"
  },
  "language_info": {
   "codemirror_mode": {
    "name": "ipython",
    "version": 3
   },
   "file_extension": ".py",
   "mimetype": "text/x-python",
   "name": "python",
   "nbconvert_exporter": "python",
   "pygments_lexer": "ipython3",
   "version": "3.6.3"
  }
 },
 "nbformat": 4,
 "nbformat_minor": 2
}

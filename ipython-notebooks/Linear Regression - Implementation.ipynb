{
 "cells": [
  {
   "cell_type": "code",
   "execution_count": 6,
   "metadata": {
    "collapsed": true
   },
   "outputs": [],
   "source": [
    "import numpy as np\n",
    "import matplotlib.pyplot as plt\n",
    "%matplotlib inline"
   ]
  },
  {
   "cell_type": "code",
   "execution_count": 12,
   "metadata": {
    "collapsed": true
   },
   "outputs": [],
   "source": [
    "#Generate data with 3 input features\n",
    "n_features = 3\n",
    "n_samples = 10000\n",
    "X = np.random.random((n_samples,n_features))\n",
    "#Add a constant to account for intercept feature\n",
    "X_input = np.concatenate((np.ones((n_samples,1)),X),axis=1)\n",
    "\n",
    "#Generate Y_input\n",
    "theta = np.random.normal(size=(n_features+1,1))\n",
    "Y_input=np.dot(X_input,theta)+np.random.normal(size=(n_samples,1))"
   ]
  },
  {
   "cell_type": "code",
   "execution_count": 13,
   "metadata": {},
   "outputs": [
    {
     "data": {
      "text/plain": [
       "LinearRegression(copy_X=True, fit_intercept=False, n_jobs=1, normalize=False)"
      ]
     },
     "execution_count": 13,
     "metadata": {},
     "output_type": "execute_result"
    }
   ],
   "source": [
    "#Fit linear regression\n",
    "from sklearn.linear_model import LinearRegression\n",
    "lr = LinearRegression(fit_intercept=False)\n",
    "lr.fit(X_input,Y_input)"
   ]
  },
  {
   "cell_type": "code",
   "execution_count": 14,
   "metadata": {},
   "outputs": [
    {
     "name": "stdout",
     "output_type": "stream",
     "text": [
      "Coefficients :  [-0.24794817  1.12741935  2.94589166 -0.13957163]\n"
     ]
    }
   ],
   "source": [
    "print(\"Coefficients : \",lr.coef_.flatten())"
   ]
  },
  {
   "cell_type": "code",
   "execution_count": 15,
   "metadata": {},
   "outputs": [
    {
     "name": "stdout",
     "output_type": "stream",
     "text": [
      "Coefficients :  [-0.24794817  1.12741935  2.94589166 -0.13957163]\n"
     ]
    }
   ],
   "source": [
    "#Implement Linear Regression using gradient descent\n",
    "n_iterations=10000\n",
    "alpha=0.1\n",
    "theta_gd = np.random.normal(size=(n_features+1,1))    \n",
    "\n",
    "for iterations in range(n_iterations):\n",
    "    Y_hat = np.dot(X_input,theta_gd) #Y_hat = (n_samples,1)\n",
    "    cost_function = (1/(2*n_samples))*np.dot((Y_hat-Y_input).T,(Y_hat-Y_input))\n",
    "    grad = 1/(n_samples)*np.dot(X_input.T,(Y_hat-Y_input))\n",
    "    theta_gd = theta_gd - alpha*grad\n",
    "\n",
    "print(\"Coefficients : \",theta_gd.flatten())"
   ]
  },
  {
   "cell_type": "code",
   "execution_count": null,
   "metadata": {
    "collapsed": true
   },
   "outputs": [],
   "source": []
  }
 ],
 "metadata": {
  "kernelspec": {
   "display_name": "Python 3",
   "language": "python",
   "name": "python3"
  },
  "language_info": {
   "codemirror_mode": {
    "name": "ipython",
    "version": 3
   },
   "file_extension": ".py",
   "mimetype": "text/x-python",
   "name": "python",
   "nbconvert_exporter": "python",
   "pygments_lexer": "ipython3",
   "version": "3.6.3"
  }
 },
 "nbformat": 4,
 "nbformat_minor": 2
}
